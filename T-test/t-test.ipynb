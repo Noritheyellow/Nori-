{
 "cells": [
  {
   "cell_type": "markdown",
   "id": "ef4b9821",
   "metadata": {},
   "source": [
    "# 1. 단일표본 T-test\n",
    "\n",
    "T검정은 단일 또는 2개 집단의 평균 비교까지만 가능한 검증방법이다.\n",
    "(대소를 비교하는 것: 단일, 등호 비교: 2개 집단)\n",
    "\"표본의 평균이 모집단의 평균과 일치한다\"라는 귀무가설을 확인하는 방법이다.\n",
    "<br>\n",
    "**파이썬 내장 라이브러리 scipy의 ttest_1samp를 활용**"
   ]
  },
  {
   "cell_type": "code",
   "execution_count": 1,
   "id": "2a67344a",
   "metadata": {},
   "outputs": [],
   "source": [
    "from scipy.stats import ttest_1samp"
   ]
  },
  {
   "cell_type": "code",
   "execution_count": 2,
   "id": "e58da8c2",
   "metadata": {},
   "outputs": [],
   "source": [
    "data = [ 32, 34 , 29 , 29 , 22 , 39, 38 , 37 , 38 , 36 , 30, 26 , 22 , 22]\n",
    "# 모집단 평균이 이렇다고 가정\n",
    "expected_mean = 30"
   ]
  },
  {
   "cell_type": "code",
   "execution_count": 4,
   "id": "9ef2822f",
   "metadata": {},
   "outputs": [
    {
     "name": "stdout",
     "output_type": "stream",
     "text": [
      "0.5973799001456603 0.5605155888171379\n"
     ]
    }
   ],
   "source": [
    "tstat, pval = ttest_1samp(data, expected_mean)\n",
    "print(tstat, pval)"
   ]
  },
  {
   "cell_type": "code",
   "execution_count": 5,
   "id": "b35c0d97",
   "metadata": {},
   "outputs": [
    {
     "name": "stdout",
     "output_type": "stream",
     "text": [
      "0.5973799001456603 0.5605155888171379\n"
     ]
    }
   ],
   "source": [
    "# numpy를 이용해도 된다.\n",
    "import numpy as np\n",
    "data = np.array([ 32, 34 , 29 , 29 , 22 , 39, 38 , 37 , 38 , 36 , 30, 26 , 22 , 22])\n",
    "expected_mean = 30\n",
    "\n",
    "tstat, pval = ttest_1samp(data, expected_mean)\n",
    "print(tstat, pval)"
   ]
  },
  {
   "cell_type": "markdown",
   "id": "ab747d99",
   "metadata": {},
   "source": [
    "대부분의 연구에서는 p-value를 0.05로 잡는다. 만약 이보다 작다면 귀무가설을 기각하는 것이다.\n",
    "본 표본의 p-value는 0.5605155888171379 이므로 제1종오류가 범해질 확률이 크다. 이는 곧 귀무가설이 타당하다고 여겨질 근거가 되며\n",
    "마지노선인 0.05 아래로 내려가지 않으므로 귀무가설을 채택한다."
   ]
  },
  {
   "cell_type": "markdown",
   "id": "1e068963",
   "metadata": {},
   "source": [
    "# 2. 독립표본 T-test\n",
    "\n",
    "H0: \"2개 집단에서 표본을 수집했을 때, 두 집단의 평균이 서로 일치한다\""
   ]
  },
  {
   "cell_type": "code",
   "execution_count": 6,
   "id": "345bb6d1",
   "metadata": {},
   "outputs": [
    {
     "name": "stdout",
     "output_type": "stream",
     "text": [
      "-42.24113783375391 1.7260271771784527e-25\n"
     ]
    },
    {
     "data": {
      "text/plain": [
       "Ttest_indResult(statistic=-42.24113783375391, pvalue=1.7260271771784527e-25)"
      ]
     },
     "execution_count": 6,
     "metadata": {},
     "output_type": "execute_result"
    }
   ],
   "source": [
    "from scipy.stats import ttest_ind\n",
    "\n",
    "data1 = [ 32, 34 , 29 , 29 , 22 , 39, 38 , 37 , 38 , 36 , 30, 26 , 22 , 22]\n",
    "#data2 = [ 32, 34 , 29 , 29 , 22 , 39, 38 , 37 , 38 , 36 , 30, 26 , 22 , 22] 귀무가설 채택용 데이터\n",
    "data2 = [ 132, 134 , 129 , 129 , 122 , 139, 138 , 137 , 138 , 136 , 130, 126 , 122 , 122]\n",
    "\n",
    "tstat, pval = ttest_ind(data1, data2)\n",
    "\n",
    "print(tstat, pval)\n",
    "ttest_ind(data1, data2)"
   ]
  },
  {
   "cell_type": "markdown",
   "id": "0b6bc1d1",
   "metadata": {},
   "source": [
    "통계검정량 t 값은 -42.24113783375391, 이에 대한 pvalue는 1.7260271771784527e-25 이다.\n",
    "즉 제1종오류가 범해질 확률이 1.7260271771784527e-25로 마지노선인 0.05를 넘겼다. 제1종오류가 발생할 확률이 현저히 낮으며 이는 역으로 귀무가설 기각에 힘을 실어주는 통계적 근거이다. <br>\n",
    "즉, 표본 data1, data2 두 집단의 평균이 서로 다르다."
   ]
  },
  {
   "cell_type": "code",
   "execution_count": 8,
   "id": "23e534bb",
   "metadata": {},
   "outputs": [],
   "source": [
    "import researchpy as rp\n",
    "import numpy as np\n",
    "import pandas as pd"
   ]
  },
  {
   "cell_type": "code",
   "execution_count": 11,
   "id": "3726724d",
   "metadata": {},
   "outputs": [
    {
     "name": "stdout",
     "output_type": "stream",
     "text": [
      "(14,) (14,)\n",
      "0     32\n",
      "1     34\n",
      "2     29\n",
      "3     29\n",
      "4     22\n",
      "5     39\n",
      "6     38\n",
      "7     37\n",
      "8     38\n",
      "9     36\n",
      "10    30\n",
      "11    26\n",
      "12    22\n",
      "13    22\n",
      "Name: y, dtype: int32 0     132\n",
      "1     134\n",
      "2     129\n",
      "3     129\n",
      "4     122\n",
      "5     139\n",
      "6     138\n",
      "7     137\n",
      "8     138\n",
      "9     136\n",
      "10    130\n",
      "11    126\n",
      "12    122\n",
      "13    122\n",
      "Name: yhat, dtype: int32\n"
     ]
    }
   ],
   "source": [
    "df_y = pd.DataFrame(np.array(data1), columns = ['y'])\n",
    "df_yhat = pd.DataFrame(np.array(data2), columns = ['yhat'])\n",
    "\n",
    "y = df_y['y']\n",
    "yhat = df_yhat['yhat']\n",
    "print(y.shape, yhat.shape)\n",
    "print(y, yhat)"
   ]
  },
  {
   "cell_type": "code",
   "execution_count": 12,
   "id": "15cf1c31",
   "metadata": {},
   "outputs": [
    {
     "data": {
      "text/html": [
       "<div>\n",
       "<style scoped>\n",
       "    .dataframe tbody tr th:only-of-type {\n",
       "        vertical-align: middle;\n",
       "    }\n",
       "\n",
       "    .dataframe tbody tr th {\n",
       "        vertical-align: top;\n",
       "    }\n",
       "\n",
       "    .dataframe thead th {\n",
       "        text-align: right;\n",
       "    }\n",
       "</style>\n",
       "<table border=\"1\" class=\"dataframe\">\n",
       "  <thead>\n",
       "    <tr style=\"text-align: right;\">\n",
       "      <th></th>\n",
       "      <th>Variable</th>\n",
       "      <th>N</th>\n",
       "      <th>Mean</th>\n",
       "      <th>SD</th>\n",
       "      <th>SE</th>\n",
       "      <th>95% Conf.</th>\n",
       "      <th>Interval</th>\n",
       "    </tr>\n",
       "  </thead>\n",
       "  <tbody>\n",
       "    <tr>\n",
       "      <th>0</th>\n",
       "      <td>Y</td>\n",
       "      <td>14.0</td>\n",
       "      <td>31.0</td>\n",
       "      <td>6.263447</td>\n",
       "      <td>1.673977</td>\n",
       "      <td>27.383593</td>\n",
       "      <td>34.616407</td>\n",
       "    </tr>\n",
       "    <tr>\n",
       "      <th>1</th>\n",
       "      <td>linear interpolation</td>\n",
       "      <td>14.0</td>\n",
       "      <td>131.0</td>\n",
       "      <td>6.263447</td>\n",
       "      <td>1.673977</td>\n",
       "      <td>127.383593</td>\n",
       "      <td>134.616407</td>\n",
       "    </tr>\n",
       "    <tr>\n",
       "      <th>2</th>\n",
       "      <td>combined</td>\n",
       "      <td>28.0</td>\n",
       "      <td>81.0</td>\n",
       "      <td>51.287137</td>\n",
       "      <td>9.692358</td>\n",
       "      <td>61.112925</td>\n",
       "      <td>100.887075</td>\n",
       "    </tr>\n",
       "  </tbody>\n",
       "</table>\n",
       "</div>"
      ],
      "text/plain": [
       "               Variable     N   Mean         SD        SE   95% Conf.  \\\n",
       "0                     Y  14.0   31.0   6.263447  1.673977   27.383593   \n",
       "1  linear interpolation  14.0  131.0   6.263447  1.673977  127.383593   \n",
       "2              combined  28.0   81.0  51.287137  9.692358   61.112925   \n",
       "\n",
       "     Interval  \n",
       "0   34.616407  \n",
       "1  134.616407  \n",
       "2  100.887075  "
      ]
     },
     "execution_count": 12,
     "metadata": {},
     "output_type": "execute_result"
    }
   ],
   "source": [
    "summary, rst = rp.ttest(group1=y, group1_name='Y'\n",
    "                       ,group2=yhat, group2_name='linear interpolation')\n",
    "\n",
    "summary"
   ]
  },
  {
   "cell_type": "code",
   "execution_count": 13,
   "id": "503f1a15",
   "metadata": {},
   "outputs": [
    {
     "data": {
      "text/html": [
       "<div>\n",
       "<style scoped>\n",
       "    .dataframe tbody tr th:only-of-type {\n",
       "        vertical-align: middle;\n",
       "    }\n",
       "\n",
       "    .dataframe tbody tr th {\n",
       "        vertical-align: top;\n",
       "    }\n",
       "\n",
       "    .dataframe thead th {\n",
       "        text-align: right;\n",
       "    }\n",
       "</style>\n",
       "<table border=\"1\" class=\"dataframe\">\n",
       "  <thead>\n",
       "    <tr style=\"text-align: right;\">\n",
       "      <th></th>\n",
       "      <th>Independent t-test</th>\n",
       "      <th>results</th>\n",
       "    </tr>\n",
       "  </thead>\n",
       "  <tbody>\n",
       "    <tr>\n",
       "      <th>0</th>\n",
       "      <td>Difference (Y - linear interpolation) =</td>\n",
       "      <td>-100.0000</td>\n",
       "    </tr>\n",
       "    <tr>\n",
       "      <th>1</th>\n",
       "      <td>Degrees of freedom =</td>\n",
       "      <td>26.0000</td>\n",
       "    </tr>\n",
       "    <tr>\n",
       "      <th>2</th>\n",
       "      <td>t =</td>\n",
       "      <td>-42.2411</td>\n",
       "    </tr>\n",
       "    <tr>\n",
       "      <th>3</th>\n",
       "      <td>Two side test p value =</td>\n",
       "      <td>0.0000</td>\n",
       "    </tr>\n",
       "    <tr>\n",
       "      <th>4</th>\n",
       "      <td>Difference &lt; 0 p value =</td>\n",
       "      <td>0.0000</td>\n",
       "    </tr>\n",
       "    <tr>\n",
       "      <th>5</th>\n",
       "      <td>Difference &gt; 0 p value =</td>\n",
       "      <td>1.0000</td>\n",
       "    </tr>\n",
       "    <tr>\n",
       "      <th>6</th>\n",
       "      <td>Cohen's d =</td>\n",
       "      <td>-15.9656</td>\n",
       "    </tr>\n",
       "    <tr>\n",
       "      <th>7</th>\n",
       "      <td>Hedge's g =</td>\n",
       "      <td>-15.5006</td>\n",
       "    </tr>\n",
       "    <tr>\n",
       "      <th>8</th>\n",
       "      <td>Glass's delta =</td>\n",
       "      <td>-15.9656</td>\n",
       "    </tr>\n",
       "    <tr>\n",
       "      <th>9</th>\n",
       "      <td>Pearson's r =</td>\n",
       "      <td>0.9928</td>\n",
       "    </tr>\n",
       "  </tbody>\n",
       "</table>\n",
       "</div>"
      ],
      "text/plain": [
       "                         Independent t-test   results\n",
       "0  Difference (Y - linear interpolation) =  -100.0000\n",
       "1                     Degrees of freedom =    26.0000\n",
       "2                                      t =   -42.2411\n",
       "3                  Two side test p value =     0.0000\n",
       "4                 Difference < 0 p value =     0.0000\n",
       "5                 Difference > 0 p value =     1.0000\n",
       "6                              Cohen's d =   -15.9656\n",
       "7                              Hedge's g =   -15.5006\n",
       "8                          Glass's delta =   -15.9656\n",
       "9                            Pearson's r =     0.9928"
      ]
     },
     "execution_count": 13,
     "metadata": {},
     "output_type": "execute_result"
    }
   ],
   "source": [
    "rst"
   ]
  },
  {
   "cell_type": "code",
   "execution_count": null,
   "id": "d34a031a",
   "metadata": {},
   "outputs": [],
   "source": []
  }
 ],
 "metadata": {
  "kernelspec": {
   "display_name": "Python 3",
   "language": "python",
   "name": "python3"
  },
  "language_info": {
   "codemirror_mode": {
    "name": "ipython",
    "version": 3
   },
   "file_extension": ".py",
   "mimetype": "text/x-python",
   "name": "python",
   "nbconvert_exporter": "python",
   "pygments_lexer": "ipython3",
   "version": "3.8.8"
  }
 },
 "nbformat": 4,
 "nbformat_minor": 5
}
