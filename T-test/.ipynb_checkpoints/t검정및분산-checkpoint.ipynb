{
 "cells": [
  {
   "cell_type": "markdown",
   "metadata": {},
   "source": [
    "## 1. 단일표본 T-검정 (1 Sample T-Test)\n",
    "### T-검정은 단일 또는 2개 집단의 평균 비교까지만 가능한 검증방법.\n",
    "#### 단일표본 T-test 는, “표본의 평균이 모집단의 평균과 일치한다”라는 귀무가설을 확인하는 방법이다.\n",
    "#### 파이썬 내장 라이브러리 scipy의 ttest_1samp를 활용\n",
    "\n",
    "###### 예를 들어 data = [ 32, 34 , 29 , 29 , 22 , 39, 38 , 37 , 38 , 36 , 30, 26 , 22 , 22]라는 표본이 있고, \n",
    "자신이 추정한 모집단의 평균이 expected_mean = 30 이라고 해보자. \n",
    "###### 그렇다면, 다음고 같이 t-test 를 수행할 수 있다. \n",
    "#####   zephlee"
   ]
  },
  {
   "cell_type": "code",
   "execution_count": 1,
   "metadata": {},
   "outputs": [],
   "source": [
    "from scipy.stats import ttest_1samp"
   ]
  },
  {
   "cell_type": "code",
   "execution_count": 4,
   "metadata": {},
   "outputs": [],
   "source": [
    "data = [ 32, 34 , 29 , 29 , 22 , 39, 38 , 37 , 38 , 36 , 30, 26 , 22 , 22]\n",
    "expected_mean = 30"
   ]
  },
  {
   "cell_type": "code",
   "execution_count": 8,
   "metadata": {},
   "outputs": [
    {
     "name": "stdout",
     "output_type": "stream",
     "text": [
      "0.5973799001456603\n",
      "0.5605155888171379\n"
     ]
    }
   ],
   "source": [
    "tstat, pval = ttest_1samp(data, expected_mean)\n",
    "print(tstat)\n",
    "print( pval)"
   ]
  },
  {
   "cell_type": "markdown",
   "metadata": {},
   "source": [
    "###### 대 부분의 연구에서는, p-value 0.05 기준으로 해석하며, 만약 p-value가 0.05보다 작으면 앞선 귀무가설(“표본의 평균이 모집단의 평균과 일치한다”)을 기각한다.\n",
    "###### 즉, 이 경우, p-value 0.56 이므로, null hypothesis 를 수용한다. 다시말하면, 해당 표본은  평균이 30인, 모집단으로 부터 왔다고 통계적으로 말할 수 있다."
   ]
  },
  {
   "cell_type": "code",
   "execution_count": null,
   "metadata": {},
   "outputs": [],
   "source": []
  },
  {
   "cell_type": "markdown",
   "metadata": {},
   "source": [
    "## 2. 독립표본 T-검정 (2 Sample T-Test)\n",
    "#### “2개 집단에서 표본을 수집했을 때, 두 집단의 평균이 서로 일치한다”라는 귀무가설을 확인하는 방법"
   ]
  },
  {
   "cell_type": "code",
   "execution_count": 9,
   "metadata": {
    "scrolled": true
   },
   "outputs": [
    {
     "name": "stdout",
     "output_type": "stream",
     "text": [
      "0.0\n",
      "1.0\n"
     ]
    }
   ],
   "source": [
    "from scipy.stats import ttest_ind\n",
    "\n",
    "data1 = [ 32, 34 , 29 , 29 , 22 , 39, 38 , 37 , 38 , 36 , 30, 26 , 22 , 22]\n",
    "data2 = [ 32, 34 , 29 , 29 , 22 , 39, 38 , 37 , 38 , 36 , 30, 26 , 22 , 22]\n",
    "\n",
    "tstat, pval = ttest_ind(data1, data2)\n",
    "\n",
    "print(tstat)\n",
    "print( pval)\n"
   ]
  },
  {
   "cell_type": "code",
   "execution_count": null,
   "metadata": {},
   "outputs": [],
   "source": []
  },
  {
   "cell_type": "markdown",
   "metadata": {},
   "source": [
    "## 3. 분산 분석 (ANOVA: Analysis of Variance)\n",
    "#### 3개 이상의 집단의 평균이 같은지(차이가 있는지) 확인하려면 분산 분석(ANOVA: Analysis of Variance)을  한다.\n",
    "##### 분산 분석의 귀무가설은 “모든 집단의 평균이 같다”가 된다. 즉, 하나라도 평균이 다른 집단이 발견되면 귀무가설을 기각할 수 있다."
   ]
  },
  {
   "cell_type": "code",
   "execution_count": 11,
   "metadata": {},
   "outputs": [
    {
     "name": "stdout",
     "output_type": "stream",
     "text": [
      "0.0\n",
      "1.0\n"
     ]
    }
   ],
   "source": [
    "from scipy.stats import f_oneway\n",
    "\n",
    "data1 = [ 32, 34 , 29 , 29 , 22 , 39, 38 , 37 , 38 , 36 , 30, 26 , 22 , 22]\n",
    "data2 = [ 32, 34 , 29 , 29 , 22 , 39, 38 , 37 , 38 , 36 , 30, 26 , 22 , 22]\n",
    "data3 = [ 32, 34 , 29 , 29 , 22 , 39, 38 , 37 , 38 , 36 , 30, 26 , 22 , 22]\n",
    "\n",
    "fstat, pval = f_oneway(data1, data2, data3)\n",
    "print(tstat)\n",
    "print( pval)"
   ]
  },
  {
   "cell_type": "markdown",
   "metadata": {},
   "source": [
    "##### 만약 p-value가 0.05보다 작다면 \n",
    "##### 즉, 집단들의 평균이 모두 똑같지 않다는 의미이며,  이 때는 사후 검정을 통해 대체 어떤 집단이 차이가 있는지 확인해야 한다."
   ]
  },
  {
   "cell_type": "markdown",
   "metadata": {},
   "source": [
    "### 사후검정 \n",
    "##### 이때, Tukey’s Range Test 를 보편적으로 사용한다."
   ]
  },
  {
   "cell_type": "code",
   "execution_count": 13,
   "metadata": {},
   "outputs": [
    {
     "name": "stdout",
     "output_type": "stream",
     "text": [
      "Multiple Comparison of Means - Tukey HSD, FWER=0.05\n",
      "==================================================\n",
      "group1 group2 meandiff p-adj  lower  upper  reject\n",
      "--------------------------------------------------\n",
      " data1  data2      0.0   0.9 -5.7672 5.7672  False\n",
      " data1  data3      0.0   0.9 -5.7672 5.7672  False\n",
      " data2  data3      0.0   0.9 -5.7672 5.7672  False\n",
      "--------------------------------------------------\n"
     ]
    }
   ],
   "source": [
    "from scipy.stats import f_oneway\n",
    "import numpy as np\n",
    "from statsmodels.stats.multicomp import pairwise_tukeyhsd\n",
    "\n",
    "fstat, pval = f_oneway(data1, data2, data3)\n",
    "# np.concatenate를 통해 데이터를 합쳐 놓는다.\n",
    "v = np.concatenate([data1, data2, data3])\n",
    "\n",
    "# 데이터 개수만큼 레이블을 준비한다.\n",
    "labels = ['data1']*len(data1) + ['data2']*len(data3) + ['data3']*len(data3)\n",
    "\n",
    "# 사후 검정을 수행한다.\n",
    "tukey_results = pairwise_tukeyhsd(v, labels, 0.05)\n",
    "print(tukey_results)"
   ]
  },
  {
   "cell_type": "markdown",
   "metadata": {},
   "source": [
    "reject 컬럼의 False 에 주목한다. data1, data2, data3가 모두 동일하므로, 기각할 필요가 없음을 확인할 수 있다."
   ]
  },
  {
   "cell_type": "code",
   "execution_count": null,
   "metadata": {},
   "outputs": [],
   "source": []
  },
  {
   "cell_type": "markdown",
   "metadata": {},
   "source": [
    "# *** T-검정과 ANOVA의 전제 조건\n",
    "#### T-검정과 ANOVA를 할 떄는 반드시 아래와 같은 조건이 성립되어야 한다.\n",
    "\n",
    "### 1. 표본이 정규 분포를 그려야 한다. (정규성)\n",
    "### 2. 2개 이상의 집단을 비교하려면, 각 집단의 표준편차가 서로 같아야 한다. (등분산성)\n",
    "### 3. 표본은 독립적이어야 하며, 서로 영향을 미치지 않아야 한다."
   ]
  },
  {
   "cell_type": "code",
   "execution_count": null,
   "metadata": {},
   "outputs": [],
   "source": []
  },
  {
   "cell_type": "markdown",
   "metadata": {},
   "source": [
    "## 4. Binomial Test (이항검정)\n",
    "#### 범주가 2개(성공 또는 실패)로 구성된 자료인 경우 이항 검정을 사용."
   ]
  },
  {
   "cell_type": "markdown",
   "metadata": {},
   "source": [
    "##### scipy의 binom_test를 활용. \n",
    "###### 입력 값은 총 3개가 필요하다. 성공 횟수, 시도 횟수, 기대 성공 확률.\n",
    "예를 들어 1000번 시도해서 525번 성공했는데, 기대 성공 확률이 0.5라고 하면 다음과 같이 작성한다."
   ]
  },
  {
   "cell_type": "code",
   "execution_count": 15,
   "metadata": {},
   "outputs": [
    {
     "data": {
      "text/plain": [
       "0.12121426581113832"
      ]
     },
     "execution_count": 15,
     "metadata": {},
     "output_type": "execute_result"
    }
   ],
   "source": [
    "from scipy.stats import binom_test\n",
    "pval = binom_test(525, n=1000, p=0.5)\n",
    "pval"
   ]
  },
  {
   "cell_type": "markdown",
   "metadata": {},
   "source": [
    "## 5. 카이제곱 검정 (Chi Square Test)\n",
    "#### 만약 범주가 3개 이상인 경우에는 카이제곱 검정을 사용한다."
   ]
  },
  {
   "cell_type": "code",
   "execution_count": 18,
   "metadata": {},
   "outputs": [
    {
     "data": {
      "text/plain": [
       "0.002812834559546625"
      ]
     },
     "execution_count": 18,
     "metadata": {},
     "output_type": "execute_result"
    }
   ],
   "source": [
    "from scipy.stats import chi2_contingency\n",
    "\n",
    "#          A        B  \n",
    "# -----------------\n",
    "# 1st    | 30  | 10\n",
    "# 2nd  | 35  |  5\n",
    "# 3rd  | 28  | 12\n",
    "# 4th  | 20 | 20\n",
    "\n",
    "data = [[30, 10],\n",
    "     [35, 5],\n",
    "     [28, 12],\n",
    "     [20, 20]]\n",
    "\n",
    "chi2, pval, dof, expected = chi2_contingency(data)\n",
    "pval"
   ]
  },
  {
   "cell_type": "markdown",
   "metadata": {},
   "source": [
    "p-value가 0.05 이하라면 집단 간의 차이가 있다고 해석할 수 있다."
   ]
  }
 ],
 "metadata": {
  "kernelspec": {
   "display_name": "Python 3",
   "language": "python",
   "name": "python3"
  },
  "language_info": {
   "codemirror_mode": {
    "name": "ipython",
    "version": 3
   },
   "file_extension": ".py",
   "mimetype": "text/x-python",
   "name": "python",
   "nbconvert_exporter": "python",
   "pygments_lexer": "ipython3",
   "version": "3.8.8"
  }
 },
 "nbformat": 4,
 "nbformat_minor": 2
}
